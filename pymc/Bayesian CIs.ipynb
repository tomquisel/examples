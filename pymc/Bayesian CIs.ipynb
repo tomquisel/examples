{
 "cells": [
  {
   "cell_type": "code",
   "execution_count": 1,
   "metadata": {
    "collapsed": false,
    "scrolled": true
   },
   "outputs": [],
   "source": [
    "%matplotlib inline\n",
    "import pylab as plt\n",
    "import seaborn as sns\n",
    "import pandas as pd\n",
    "import numpy as np\n",
    "import scipy.stats\n",
    "import datetime as dt\n",
    "import random\n",
    "from IPython.display import display\n",
    "import pymc\n",
    "\n",
    "from pymc.Matplot import plot as pymc_plot"
   ]
  },
  {
   "cell_type": "markdown",
   "metadata": {},
   "source": [
    "### Acknowledgements:\n",
    "* The Bayesian linear regression is lightly adapted from http://jakevdp.github.io/blog/2014/06/14/frequentism-and-bayesianism-4-bayesian-in-python/"
   ]
  },
  {
   "cell_type": "code",
   "execution_count": 6,
   "metadata": {
    "collapsed": false
   },
   "outputs": [],
   "source": [
    "# Create some convenience routines for plotting\n",
    "\n",
    "def plot_lin_reg_results(xdata, ydata, M):\n",
    "    \"\"\"Plot both the trace and the model together\"\"\"\n",
    "    print_CIs(M, ['alpha', 'beta', 'sigma'])\n",
    "    fig, ax = plt.subplots(1, 2, figsize=(10, 4))\n",
    "    plot_2d_MCMC_trace(M, ['alpha', 'beta'], ax=ax[0], scatter=True)\n",
    "    plot_lin_reg_model(ax[1], xdata, ydata, trace)\n",
    "    \n",
    "    \n",
    "def print_CIs(M, var_names, alpha = 0.05):\n",
    "    stats = M.stats()\n",
    "    for name in var_names:\n",
    "        var_stats = stats[name]\n",
    "        CI_low, CI_high = var_stats['95% HPD interval']\n",
    "        post_mean = var_stats['mean']\n",
    "        mc_error = var_stats['mc error']\n",
    "        post_median = var_stats['quantiles'][50]\n",
    "        var_samples = M.trace(name)[:]\n",
    "        print '95%% HPD credible interval for %s: %0.3f - %0.3f. post mean: %0.3f post median: %0.3f mc_error: %0.3f' % (\n",
    "            name, CI_low, CI_high, post_mean, post_median, mc_error\n",
    "        )\n",
    "\n",
    "        \n",
    "def plot_2d_MCMC_trace(M, var_names, ax=None, scatter=False, **kwargs):\n",
    "    \"\"\"Plot traces and contours\"\"\"\n",
    "    tracex, tracey = M.trace(var_names[0])[:], M.trace(var_names[1])[:]\n",
    "    xbins, ybins, percentiles = compute_2d_percentile_bins(tracex, tracey)\n",
    "    if ax is None:\n",
    "        ax = plt.gca()\n",
    "    # draw contours at 1 sigma and 2 sigma percentiles\n",
    "    ax.contour(xbins, ybins, percentiles.T, levels=[32.7, 4.5], colors='k')\n",
    "    if scatter:\n",
    "        ax.plot(tracex, tracey, ',k', alpha=0.1)\n",
    "    ax.set_xlabel(var_names[0])\n",
    "    ax.set_ylabel(var_names[1])\n",
    "    \n",
    "    \n",
    "def plot_lin_reg_model(ax, xdata, ydata, trace):\n",
    "    \"\"\"Plot the linear model and 95% CI contours\"\"\"\n",
    "    ax.plot(xdata, ydata, 'ok')\n",
    "\n",
    "    alpha, beta = trace[:2]\n",
    "    xfit = np.linspace(-20, 120, 10)\n",
    "    yfit = alpha[:, None] + beta[:, None] * xfit\n",
    "    mu = yfit.mean(0)\n",
    "    # 95% CI margin of error\n",
    "    sig = -scipy.stats.norm.ppf(0.025) * yfit.std(0)\n",
    "\n",
    "    ax.plot(xfit, mu, '-k')\n",
    "    ax.fill_between(xfit, mu - sig, mu + sig, color='lightgray')\n",
    "\n",
    "    ax.set_xlabel('x')\n",
    "    ax.set_ylabel('y')\n",
    "\n",
    "\n",
    "def compute_2d_percentile_bins(trace1, trace2, nbins=20):\n",
    "    \"\"\"From a set of traces, create percentile bins\"\"\"\n",
    "    L, xbins, ybins = np.histogram2d(trace1, trace2, nbins)\n",
    "    L[L == 0] = 1E-16\n",
    "\n",
    "    shape = L.shape\n",
    "    L = L.ravel()\n",
    "\n",
    "    # obtain the indices to sort and unsort the flattened array\n",
    "    sort_o = np.argsort(L)\n",
    "    unsort_o = np.argsort(sort_o)\n",
    "\n",
    "    # compute the percentile of each bin\n",
    "    L_cumsum = L[sort_o].cumsum()\n",
    "    L_cumsum = 100.0 * L_cumsum / L_cumsum[-1]\n",
    "    \n",
    "    xbins = 0.5 * (xbins[1:] + xbins[:-1])\n",
    "    ybins = 0.5 * (ybins[1:] + ybins[:-1])\n",
    "\n",
    "    return xbins, ybins, L_cumsum[unsort_o].reshape(shape)\n",
    "\n",
    "def compute_percentile_bins(trace, nbins=200):\n",
    "    L, bin_edges = np.histogram(trace, bins=nbins)\n",
    "    bin_centers = 0.5 * (bin_edges[1:] + bin_edges[:-1])\n",
    "\n",
    "    # compute the percentile of each bin\n",
    "    sort_o = np.argsort(L)\n",
    "    unsort_o = np.argsort(sort_o)\n",
    "    L_cumsum = L[sort_o].cumsum()\n",
    "    L_cumsum = 100.0 * L_cumsum / L_cumsum[-1]\n",
    "    \n",
    "    return bin_centers, L_cumsum[unsort_o]\n",
    "    \n",
    "    "
   ]
  },
  {
   "cell_type": "markdown",
   "metadata": {},
   "source": [
    "# Bayesian CIs on normally distributed data"
   ]
  },
  {
   "cell_type": "code",
   "execution_count": 3,
   "metadata": {
    "collapsed": false
   },
   "outputs": [],
   "source": [
    "# create some data\n",
    "def data_generator(samp_size=6):\n",
    "    true_mean = 36\n",
    "    true_sd = 4\n",
    "    return np.random.normal(loc=true_mean, scale=true_sd, size=samp_size)\n",
    "\n",
    "np.random.seed(42)\n",
    "sample = data_generator()"
   ]
  },
  {
   "cell_type": "code",
   "execution_count": 4,
   "metadata": {
    "collapsed": false
   },
   "outputs": [
    {
     "data": {
      "text/plain": [
       "(37.37391860978417, 2.5333722665329241)"
      ]
     },
     "execution_count": 4,
     "metadata": {},
     "output_type": "execute_result"
    }
   ],
   "source": [
    "np.mean(sample), np.std(sample)"
   ]
  },
  {
   "cell_type": "code",
   "execution_count": 5,
   "metadata": {
    "collapsed": true
   },
   "outputs": [],
   "source": [
    "# flat prior on the mean\n",
    "@pymc.stochastic(observed=False)\n",
    "def mu(value=0):\n",
    "    return 1\n",
    "\n",
    "# Jeffry's prior on standard deviation\n",
    "@pymc.stochastic(observed=False)\n",
    "def sigma(value=1):\n",
    "    if value < 0:\n",
    "        return -np.inf\n",
    "    return -np.log(value)\n",
    "\n",
    "x = pymc.Normal('x', mu=mu, tau=1.0 / sigma ** 2, observed=True, value=sample)\n",
    "\n",
    "# package the full model in a dictionary\n",
    "model_norm = dict(mu=mu, sigma=sigma, x=x)"
   ]
  },
  {
   "cell_type": "code",
   "execution_count": 6,
   "metadata": {
    "collapsed": false,
    "scrolled": true
   },
   "outputs": [
    {
     "name": "stdout",
     "output_type": "stream",
     "text": [
      " [-----------------100%-----------------] 100000 of 100000 complete in 9.1 sec"
     ]
    }
   ],
   "source": [
    "# run the basic MCMC\n",
    "normal_M = pymc.MCMC(model_norm)\n",
    "normal_M.sample(iter=100000, burn=50000)"
   ]
  },
  {
   "cell_type": "code",
   "execution_count": 178,
   "metadata": {
    "collapsed": false,
    "scrolled": true
   },
   "outputs": [],
   "source": [
    "def fast_bayes_CI(sample):\n",
    "    # flat prior on the mean\n",
    "    @pymc.stochastic(observed=False)\n",
    "    def mu(value=0):\n",
    "        return 1\n",
    "\n",
    "    # Jeffry's prior on standard deviation\n",
    "    @pymc.stochastic(observed=False)\n",
    "    def sigma(value=1):\n",
    "        if value < 0:\n",
    "            return -np.inf\n",
    "        return -np.log(value)\n",
    "    x = pymc.Normal('x', mu=mu, tau=1.0 / sigma ** 2, observed=True, value=sample)\n",
    "    model_norm = dict(mu=mu, sigma=sigma, x=x)\n",
    "    normal_M = pymc.MCMC(model_norm)\n",
    "    normal_M.sample(iter=5000, burn=4000)\n",
    "    CI = normal_M.stats()['mu']['95% HPD interval']\n",
    "    normal_M.halt()\n",
    "    return CI"
   ]
  },
  {
   "cell_type": "code",
   "execution_count": 7,
   "metadata": {
    "collapsed": false,
    "scrolled": false
   },
   "outputs": [
    {
     "name": "stdout",
     "output_type": "stream",
     "text": [
      "95% HPD credible interval for mu: 34.387 - 40.204. post mean: 37.364 post median: 37.362 mc_error: 0.015\n",
      "95% HPD credible interval for sigma: 1.522 - 5.904. post mean: 3.295 post median: 2.980 mc_error: 0.020\n",
      "Plotting"
     ]
    },
    {
     "name": "stderr",
     "output_type": "stream",
     "text": [
      "/Users/tom/anaconda/lib/python2.7/site-packages/matplotlib/collections.py:650: FutureWarning: elementwise comparison failed; returning scalar instead, but in the future will perform elementwise comparison\n",
      "  if self._edgecolors_original != str('face'):\n",
      "/Users/tom/anaconda/lib/python2.7/site-packages/matplotlib/collections.py:590: FutureWarning: elementwise comparison failed; returning scalar instead, but in the future will perform elementwise comparison\n",
      "  if self._edgecolors == str('face'):\n"
     ]
    },
    {
     "name": "stdout",
     "output_type": "stream",
     "text": [
      " mu\n",
      "Plotting sigma\n"
     ]
    },
    {
     "data": {
      "image/png": "[encoded data removed]",
      "text/plain": [
       "<matplotlib.figure.Figure at 0x104596210>"
      ]
     },
     "metadata": {},
     "output_type": "display_data"
    },
    {
     "data": {
      "image/png": "[encoded data removed]",
      "text/plain": [
       "<matplotlib.figure.Figure at 0x103a01450>"
      ]
     },
     "metadata": {},
     "output_type": "display_data"
    },
    {
     "data": {
      "image/png": "[encoded data removed]",
      "text/plain": [
       "<matplotlib.figure.Figure at 0x10c55e650>"
      ]
     },
     "metadata": {},
     "output_type": "display_data"
    }
   ],
   "source": [
    "print_CIs(normal_M, ['mu','sigma'])\n",
    "plot_2d_MCMC_trace(normal_M, ['mu', 'sigma'], scatter=True, colors='k')\n",
    "pymc_plot(normal_M)"
   ]
  },
  {
   "cell_type": "markdown",
   "metadata": {},
   "source": [
    "## The frequentist version, using the z-score"
   ]
  },
  {
   "cell_type": "code",
   "execution_count": 119,
   "metadata": {
    "collapsed": false
   },
   "outputs": [
    {
     "data": {
      "text/plain": [
       "(35.346835860625397, 39.401001358942942)"
      ]
     },
     "execution_count": 119,
     "metadata": {},
     "output_type": "execute_result"
    }
   ],
   "source": [
    "def zscore_CI(sample):\n",
    "    return scipy.stats.norm(loc=sample.mean(), scale=sample.std()/len(sample)**0.5).interval(0.95)\n",
    "\n",
    "zscore_CI(sample)"
   ]
  },
  {
   "cell_type": "markdown",
   "metadata": {},
   "source": [
    "## The frequentist version, using the t-distribution"
   ]
  },
  {
   "cell_type": "code",
   "execution_count": 120,
   "metadata": {
    "collapsed": false
   },
   "outputs": [
    {
     "data": {
      "text/plain": [
       "(34.71530746314852, 40.032529756419819)"
      ]
     },
     "execution_count": 120,
     "metadata": {},
     "output_type": "execute_result"
    }
   ],
   "source": [
    "def tdist_CI(sample):\n",
    "    return scipy.stats.t(len(sample)-1, loc=sample.mean(), scale=sample.std()/len(sample)**0.5).interval(0.95)\n",
    "\n",
    "tdist_CI(sample)"
   ]
  },
  {
   "cell_type": "markdown",
   "metadata": {},
   "source": [
    "## Verify the CI procedures"
   ]
  },
  {
   "cell_type": "code",
   "execution_count": 46,
   "metadata": {
    "collapsed": true
   },
   "outputs": [],
   "source": [
    "def verify_CI(CI_procedure, data_generator, true_mean, iterations=1000):\n",
    "    in_interval_count = 0\n",
    "    for i in range(iterations):\n",
    "        data = data_generator()\n",
    "        CI_interval = CI_procedure(data)\n",
    "        in_interval_count += (CI_interval[0] <= true_mean <= CI_interval[1])\n",
    "    return 1.0 * in_interval_count / iterations"
   ]
  },
  {
   "cell_type": "code",
   "execution_count": 146,
   "metadata": {
    "collapsed": false
   },
   "outputs": [
    {
     "data": {
      "text/plain": [
       "0.8641"
      ]
     },
     "execution_count": 146,
     "metadata": {},
     "output_type": "execute_result"
    }
   ],
   "source": [
    "verify_CI(zscore_CI, data_generator, 36, iterations=10000)"
   ]
  },
  {
   "cell_type": "code",
   "execution_count": 145,
   "metadata": {
    "collapsed": false
   },
   "outputs": [
    {
     "data": {
      "text/plain": [
       "0.9368"
      ]
     },
     "execution_count": 145,
     "metadata": {},
     "output_type": "execute_result"
    }
   ],
   "source": [
    "verify_CI(tdist_CI, data_generator, 36, iterations=10000)"
   ]
  },
  {
   "cell_type": "code",
   "execution_count": 179,
   "metadata": {
    "collapsed": false
   },
   "outputs": [
    {
     "name": "stdout",
     "output_type": "stream",
     "text": [
      " [-----------------100%-----------------] 5000 of 5000 complete in 0.4 sec"
     ]
    },
    {
     "data": {
      "text/plain": [
       "0.936"
      ]
     },
     "execution_count": 179,
     "metadata": {},
     "output_type": "execute_result"
    }
   ],
   "source": [
    "verify_CI(fast_bayes_CI, data_generator, 36, iterations=10000)"
   ]
  },
  {
   "cell_type": "code",
   "execution_count": 143,
   "metadata": {
    "collapsed": false
   },
   "outputs": [
    {
     "data": {
      "text/plain": [
       "0.9474"
      ]
     },
     "execution_count": 143,
     "metadata": {},
     "output_type": "execute_result"
    }
   ],
   "source": [
    "verify_CI(zscore_CI, lambda: data_generator(samp_size=100), 36, iterations=10000)"
   ]
  },
  {
   "cell_type": "code",
   "execution_count": 144,
   "metadata": {
    "collapsed": false
   },
   "outputs": [
    {
     "data": {
      "text/plain": [
       "0.9499"
      ]
     },
     "execution_count": 144,
     "metadata": {},
     "output_type": "execute_result"
    }
   ],
   "source": [
    "verify_CI(tdist_CI, lambda: data_generator(samp_size=100), 36, iterations=10000)"
   ]
  },
  {
   "cell_type": "code",
   "execution_count": null,
   "metadata": {
    "collapsed": false
   },
   "outputs": [],
   "source": [
    "verify_CI(fast_bayes_CI, lambda: data_generator(samp_size=100), 36, iterations=1000)"
   ]
  },
  {
   "cell_type": "markdown",
   "metadata": {},
   "source": [
    "Both the z-score-based CI and the t-dist-based CI are overconfident with samp_size=6, but do well for samp_size=100. Interestingly, Bayes is also slightly overconfident with samp_size=6. It's likely because of the prior on standard deviation, pushing towards smaller values of it."
   ]
  },
  {
   "cell_type": "markdown",
   "metadata": {},
   "source": [
    "# Bayesian CIs on lopsided binomial data"
   ]
  },
  {
   "cell_type": "code",
   "execution_count": 211,
   "metadata": {
    "collapsed": true
   },
   "outputs": [],
   "source": [
    "# sample from a very biased coin to make it interesting\n",
    "samp_size = 30\n",
    "def data_generator(samp_size=samp_size):\n",
    "    true_p = 0.95\n",
    "    return np.random.binomial(samp_size, true_p)\n",
    "\n",
    "np.random.seed(42)\n",
    "sample = data_generator(samp_size)"
   ]
  },
  {
   "cell_type": "code",
   "execution_count": 212,
   "metadata": {
    "collapsed": false
   },
   "outputs": [
    {
     "data": {
      "text/plain": [
       "0.9666666666666667"
      ]
     },
     "execution_count": 212,
     "metadata": {},
     "output_type": "execute_result"
    }
   ],
   "source": [
    "# sample estimate of p\n",
    "1.0 * sample / samp_size"
   ]
  },
  {
   "cell_type": "code",
   "execution_count": 198,
   "metadata": {
    "collapsed": false
   },
   "outputs": [],
   "source": [
    "def get_binom_pymc_model(sample, sample_size=samp_size):\n",
    "    # haldine uninformative prior: p^−1*(1−p)^−1\n",
    "    # we could have also used jeffry's: p^−1/2*(1−p)^−1/2\n",
    "    # https://en.wikipedia.org/wiki/Prior_probability#Uninformative_priors\n",
    "    # It's not clear which is better, they're both called uninformative.\n",
    "    # It really depends on the case, and your choice doesn't matter that\n",
    "    # much since they're both relatively uninformative.\n",
    "    # Their weight is roughly that of one observation.\n",
    "    # It turns out, though, that the flat prior is best.\n",
    "    @pymc.stochastic(observed=False)\n",
    "    def p(value=0.5):\n",
    "        #return -np.log((value+1e-5)*(1-value+1e-5))\n",
    "        #if 0 <= value <= 1:\n",
    "        #    return 0\n",
    "        #return -np.inf\n",
    "        return 0\n",
    "\n",
    "    x = pymc.Binomial('x', n=sample_size, p=p, value=sample, observed=True)\n",
    "    \n",
    "    model_binom = dict(p=p, x=x)\n",
    "    binom_M = pymc.MCMC(model_binom)\n",
    "    binom_M.sample(iter=100000, burn=10000, thin=5)\n",
    "    return binom_M"
   ]
  },
  {
   "cell_type": "code",
   "execution_count": 199,
   "metadata": {
    "collapsed": false
   },
   "outputs": [
    {
     "name": "stdout",
     "output_type": "stream",
     "text": [
      " [-----------------100%-----------------] 100000 of 100000 complete in 4.2 sec"
     ]
    }
   ],
   "source": [
    "binom_M = get_binom_pymc_model(sample)"
   ]
  },
  {
   "cell_type": "code",
   "execution_count": 200,
   "metadata": {
    "collapsed": false,
    "scrolled": false
   },
   "outputs": [
    {
     "name": "stdout",
     "output_type": "stream",
     "text": [
      "95% HPD credible interval for p: 0.856 - 0.998. post mean: 0.937 post median: 0.946 mc_error: 0.000\n",
      "Plotting p\n"
     ]
    },
    {
     "data": {
      "image/png": "[encoded data removed]",
      "text/plain": [
       "<matplotlib.figure.Figure at 0x11117f850>"
      ]
     },
     "metadata": {},
     "output_type": "display_data"
    }
   ],
   "source": [
    "print_CIs(binom_M, ['p'])\n",
    "#plot_2d_MCMC_trace(binom_M, ['mu', 'sigma'], scatter=True, colors='k')\n",
    "pymc_plot(binom_M)"
   ]
  },
  {
   "cell_type": "code",
   "execution_count": 201,
   "metadata": {
    "collapsed": true
   },
   "outputs": [],
   "source": [
    "def memoize(f):\n",
    "    \"\"\" Memoization decorator for a function taking a single argument \"\"\"\n",
    "    class memodict(dict):\n",
    "        def __missing__(self, key):\n",
    "            ret = self[key] = f(key)\n",
    "            return ret \n",
    "    return memodict().__getitem__"
   ]
  },
  {
   "cell_type": "code",
   "execution_count": 202,
   "metadata": {
    "collapsed": true
   },
   "outputs": [],
   "source": [
    "@memoize\n",
    "def binom_bayes_CI(sample):\n",
    "    binom_M = get_binom_pymc_model(sample)\n",
    "    CI = binom_M.stats()['p']['95% HPD interval']\n",
    "    binom_M.halt()\n",
    "    return CI"
   ]
  },
  {
   "cell_type": "markdown",
   "metadata": {},
   "source": [
    "## Frequentist approaches"
   ]
  },
  {
   "cell_type": "code",
   "execution_count": 40,
   "metadata": {
    "collapsed": true
   },
   "outputs": [],
   "source": [
    "def get_norm_approx_moments(sample, samp_size):\n",
    "    mu_hat = sample\n",
    "    phat = 1.0 * sample / samp_size\n",
    "    se = (samp_size * phat * (1-phat)) ** 0.5\n",
    "    return mu_hat, se"
   ]
  },
  {
   "cell_type": "code",
   "execution_count": 50,
   "metadata": {
    "collapsed": false,
    "scrolled": true
   },
   "outputs": [],
   "source": [
    "def binom_tdist_CI(sample, samp_size=samp_size):\n",
    "    mu_hat, se = get_norm_approx_moments(sample, samp_size)\n",
    "    return np.array(scipy.stats.t(\n",
    "            samp_size-1, \n",
    "            loc=mu_hat, \n",
    "            scale=se\n",
    "        ).interval(0.95))/samp_size"
   ]
  },
  {
   "cell_type": "code",
   "execution_count": 51,
   "metadata": {
    "collapsed": false,
    "scrolled": true
   },
   "outputs": [],
   "source": [
    "def binom_norm_CI(sample, samp_size=samp_size):\n",
    "    mu_hat, se = get_norm_approx_moments(sample, samp_size)\n",
    "    return np.array(scipy.stats.norm(\n",
    "            loc=mu_hat, \n",
    "            scale=se\n",
    "        ).interval(0.95))/samp_size"
   ]
  },
  {
   "cell_type": "code",
   "execution_count": 57,
   "metadata": {
    "collapsed": false
   },
   "outputs": [
    {
     "data": {
      "text/plain": [
       "array([ 0.89963821,  1.03369512])"
      ]
     },
     "execution_count": 57,
     "metadata": {},
     "output_type": "execute_result"
    }
   ],
   "source": [
    "binom_tdist_CI(sample, samp_size)"
   ]
  },
  {
   "cell_type": "code",
   "execution_count": 44,
   "metadata": {
    "collapsed": false
   },
   "outputs": [
    {
     "data": {
      "text/plain": [
       "array([ 0.90243263,  1.0309007 ])"
      ]
     },
     "execution_count": 44,
     "metadata": {},
     "output_type": "execute_result"
    }
   ],
   "source": [
    "binom_norm_CI(sample, samp_size)"
   ]
  },
  {
   "cell_type": "markdown",
   "metadata": {},
   "source": [
    "The result of R's binom.test:\n",
    "* 0.8278305 0.9991564"
   ]
  },
  {
   "cell_type": "markdown",
   "metadata": {},
   "source": [
    "## An exact method based on the likelihood"
   ]
  },
  {
   "cell_type": "code",
   "execution_count": 93,
   "metadata": {
    "collapsed": true
   },
   "outputs": [],
   "source": [
    "def binom_likelihood(p, x, n):\n",
    "    # this is only proportional, it's not normalized\n",
    "    return p ** x * (1-p) ** (n-x)"
   ]
  },
  {
   "cell_type": "code",
   "execution_count": 125,
   "metadata": {
    "collapsed": false
   },
   "outputs": [],
   "source": [
    "likelihood_xs = np.linspace(0,1, 1000)\n",
    "likelihood_profile = binom_likelihood(likelihood_xs, sample, samp_size)\n",
    "# normalize the likelihood profile\n",
    "likelihood_profile /= likelihood_profile.sum()"
   ]
  },
  {
   "cell_type": "markdown",
   "metadata": {},
   "source": [
    "The maximum likelihood p:"
   ]
  },
  {
   "cell_type": "code",
   "execution_count": 123,
   "metadata": {
    "collapsed": false
   },
   "outputs": [
    {
     "data": {
      "text/plain": [
       "0.96696696696696693"
      ]
     },
     "execution_count": 123,
     "metadata": {},
     "output_type": "execute_result"
    }
   ],
   "source": [
    "likelihood_xs[likelihood_profile.argmax()]"
   ]
  },
  {
   "cell_type": "code",
   "execution_count": 152,
   "metadata": {
    "collapsed": false,
    "scrolled": true
   },
   "outputs": [
    {
     "data": {
      "text/plain": [
       "<matplotlib.text.Text at 0x110c95390>"
      ]
     },
     "execution_count": 152,
     "metadata": {},
     "output_type": "execute_result"
    },
    {
     "data": {
      "image/png": "[encoded data removed]",
      "text/plain": [
       "<matplotlib.figure.Figure at 0x11215b7d0>"
      ]
     },
     "metadata": {},
     "output_type": "display_data"
    }
   ],
   "source": [
    "plt.plot(np.linspace(0,1, 1000), likelihood_profile)\n",
    "plt.title('The likelihood of p for sample=29 and sample_size=30')"
   ]
  },
  {
   "cell_type": "code",
   "execution_count": 111,
   "metadata": {
    "collapsed": true
   },
   "outputs": [],
   "source": [
    "def get_area_above_thresh(thresh):\n",
    "    return likelihood_profile[likelihood_profile>thresh].sum()"
   ]
  },
  {
   "cell_type": "code",
   "execution_count": 112,
   "metadata": {
    "collapsed": false
   },
   "outputs": [],
   "source": [
    "threshold = scipy.optimize.minimize_scalar(lambda x: np.abs(get_area_above_thresh(x) - 0.95)).x"
   ]
  },
  {
   "cell_type": "code",
   "execution_count": 116,
   "metadata": {
    "collapsed": false
   },
   "outputs": [],
   "source": [
    "exact_ci = likelihood_xs[likelihood_profile > threshold].min(), likelihood_xs[likelihood_profile > threshold].max()"
   ]
  },
  {
   "cell_type": "code",
   "execution_count": 117,
   "metadata": {
    "collapsed": false,
    "scrolled": true
   },
   "outputs": [
    {
     "data": {
      "text/plain": [
       "(0.85585585585585588, 0.99799799799799804)"
      ]
     },
     "execution_count": 117,
     "metadata": {},
     "output_type": "execute_result"
    }
   ],
   "source": [
    "exact_ci"
   ]
  },
  {
   "cell_type": "code",
   "execution_count": 207,
   "metadata": {
    "collapsed": false
   },
   "outputs": [
    {
     "data": {
      "text/plain": [
       "0.94990164147171596"
      ]
     },
     "execution_count": 207,
     "metadata": {},
     "output_type": "execute_result"
    }
   ],
   "source": [
    "# double check that the 95% CI contains 95% of the likelihood mass\n",
    "likelihood_profile[likelihood_profile > threshold].sum()"
   ]
  },
  {
   "cell_type": "code",
   "execution_count": 209,
   "metadata": {
    "collapsed": false
   },
   "outputs": [
    {
     "data": {
      "text/plain": [
       "0.93749514659414945"
      ]
     },
     "execution_count": 209,
     "metadata": {},
     "output_type": "execute_result"
    }
   ],
   "source": [
    "# compute the expected value of p based on the likelihood distribution\n",
    "np.dot(likelihood_profile, likelihood_xs)"
   ]
  },
  {
   "cell_type": "code",
   "execution_count": 175,
   "metadata": {
    "collapsed": true
   },
   "outputs": [],
   "source": [
    "def binom_likelihood_CI(sample, sample_size=samp_size):\n",
    "    likelihood_xs = np.linspace(0,1, 1000)\n",
    "    likelihood_profile = binom_likelihood(likelihood_xs, sample, samp_size)\n",
    "    # normalize the likelihood profile\n",
    "    likelihood_profile /= likelihood_profile.sum()\n",
    "    threshold = scipy.optimize.minimize_scalar(lambda x: np.abs(get_area_above_thresh(x) - 0.95)).x\n",
    "    exact_ci = likelihood_xs[likelihood_profile > threshold].min(), likelihood_xs[likelihood_profile > threshold].max()\n",
    "    return exact_ci"
   ]
  },
  {
   "cell_type": "code",
   "execution_count": 210,
   "metadata": {
    "collapsed": false
   },
   "outputs": [
    {
     "data": {
      "text/plain": [
       "(0.90390390390390385, 1.0)"
      ]
     },
     "execution_count": 210,
     "metadata": {},
     "output_type": "execute_result"
    }
   ],
   "source": [
    "# confirm that it performs well when sample==sample_size\n",
    "binom_likelihood_CI(30)"
   ]
  },
  {
   "cell_type": "markdown",
   "metadata": {},
   "source": [
    "## Verify the CI procedures"
   ]
  },
  {
   "cell_type": "code",
   "execution_count": 54,
   "metadata": {
    "collapsed": false
   },
   "outputs": [
    {
     "data": {
      "text/plain": [
       "0.777"
      ]
     },
     "execution_count": 54,
     "metadata": {},
     "output_type": "execute_result"
    }
   ],
   "source": [
    "verify_CI(binom_norm_CI, data_generator, 0.95, iterations=1000)"
   ]
  },
  {
   "cell_type": "code",
   "execution_count": 55,
   "metadata": {
    "collapsed": false,
    "scrolled": true
   },
   "outputs": [
    {
     "data": {
      "text/plain": [
       "0.791"
      ]
     },
     "execution_count": 55,
     "metadata": {},
     "output_type": "execute_result"
    }
   ],
   "source": [
    "verify_CI(binom_tdist_CI, data_generator, 0.95, iterations=1000)"
   ]
  },
  {
   "cell_type": "markdown",
   "metadata": {},
   "source": [
    "The issue with all of the above methods is that they don't include p=0.95 in the confidence interval when sample=30. Since sampling 30 is pretty common when sample_size=30 and true_p=0.95, these methods all exclude the true value too often."
   ]
  },
  {
   "cell_type": "code",
   "execution_count": 197,
   "metadata": {
    "collapsed": false,
    "scrolled": true
   },
   "outputs": [
    {
     "name": "stdout",
     "output_type": "stream",
     "text": [
      " [-----------------100%-----------------] 100000 of 100000 complete in 4.5 sec"
     ]
    },
    {
     "data": {
      "text/plain": [
       "0.988"
      ]
     },
     "execution_count": 197,
     "metadata": {},
     "output_type": "execute_result"
    }
   ],
   "source": [
    "verify_CI(binom_bayes_CI, data_generator, 0.95, iterations=1000)"
   ]
  },
  {
   "cell_type": "markdown",
   "metadata": {},
   "source": [
    "Strangely, the bayesian CI is too conservative."
   ]
  },
  {
   "cell_type": "code",
   "execution_count": 135,
   "metadata": {
    "collapsed": false
   },
   "outputs": [
    {
     "data": {
      "text/plain": [
       "0.9404"
      ]
     },
     "execution_count": 135,
     "metadata": {},
     "output_type": "execute_result"
    }
   ],
   "source": [
    "verify_CI(binom_likelihood_CI, data_generator, 0.95, iterations=10000)"
   ]
  },
  {
   "cell_type": "markdown",
   "metadata": {},
   "source": [
    "The likelihood CI is the closest, not sure if it's off by 0.01 because of sampling error for the verification or something else."
   ]
  },
  {
   "cell_type": "markdown",
   "metadata": {},
   "source": [
    "### Compare the likelihood CI's to the Bayesian CI's for several different values"
   ]
  },
  {
   "cell_type": "code",
   "execution_count": 203,
   "metadata": {
    "collapsed": false
   },
   "outputs": [
    {
     "name": "stdout",
     "output_type": "stream",
     "text": [
      " [-----------------100%-----------------] 100000 of 100000 complete in 4.2 sec"
     ]
    },
    {
     "data": {
      "text/plain": [
       "((0.5285285285285285, 0.7877877877877878), array([ 0.50157036,  0.82251182]))"
      ]
     },
     "execution_count": 203,
     "metadata": {},
     "output_type": "execute_result"
    }
   ],
   "source": [
    "binom_likelihood_CI(20), binom_bayes_CI(20)"
   ]
  },
  {
   "cell_type": "code",
   "execution_count": 204,
   "metadata": {
    "collapsed": false
   },
   "outputs": [
    {
     "name": "stdout",
     "output_type": "stream",
     "text": [
      " [-----------------100%-----------------] 100000 of 100000 complete in 4.2 sec"
     ]
    },
    {
     "data": {
      "text/plain": [
       "((0.81381381381381379, 0.98698698698698695), array([ 0.8076582,  0.9881025]))"
      ]
     },
     "execution_count": 204,
     "metadata": {},
     "output_type": "execute_result"
    }
   ],
   "source": [
    "binom_likelihood_CI(28), binom_bayes_CI(28)"
   ]
  },
  {
   "cell_type": "code",
   "execution_count": 205,
   "metadata": {
    "collapsed": false
   },
   "outputs": [
    {
     "name": "stdout",
     "output_type": "stream",
     "text": [
      " [-----------------100%-----------------] 100000 of 100000 complete in 4.3 sec"
     ]
    },
    {
     "data": {
      "text/plain": [
       "((0.85585585585585588, 0.99799799799799804), array([ 0.85363989,  0.99786533]))"
      ]
     },
     "execution_count": 205,
     "metadata": {},
     "output_type": "execute_result"
    }
   ],
   "source": [
    "binom_likelihood_CI(29), binom_bayes_CI(29)"
   ]
  },
  {
   "cell_type": "code",
   "execution_count": 206,
   "metadata": {
    "collapsed": false
   },
   "outputs": [
    {
     "name": "stdout",
     "output_type": "stream",
     "text": [
      " [-----------------100%-----------------] 100000 of 100000 complete in 4.1 sec"
     ]
    },
    {
     "data": {
      "text/plain": [
       "((0.90390390390390385, 1.0), array([ 0.90758858,  0.99999715]))"
      ]
     },
     "execution_count": 206,
     "metadata": {},
     "output_type": "execute_result"
    }
   ],
   "source": [
    "binom_likelihood_CI(30), binom_bayes_CI(30)"
   ]
  },
  {
   "cell_type": "markdown",
   "metadata": {},
   "source": [
    "Note that the Bayesian CI is overly conservative, especially for smaller sample values."
   ]
  },
  {
   "cell_type": "markdown",
   "metadata": {},
   "source": [
    "## Discussion\n",
    "\n",
    "The frequentist methods fail, but the Bayesian method misses the mark, too. For some reason, the prior on p pushes the CIs wider than they should be. On the flip side, if we pick a Jeffry's or Haldine prior, the prior on p pushes the CIs too far towards the edges of the distribution, resulting in an overly-narrow confidence interval in our case. I'm not sure how to get a result out of the Bayesian approach that gives the same result as the likelihood.\n",
    "\n",
    "Only the likelihood-based method produces a good result."
   ]
  },
  {
   "cell_type": "markdown",
   "metadata": {},
   "source": [
    "# Bayesian Linear Regression"
   ]
  },
  {
   "cell_type": "code",
   "execution_count": 6,
   "metadata": {
    "collapsed": true
   },
   "outputs": [],
   "source": [
    "# create some data for linear regression: \n",
    "np.random.seed(42)\n",
    "theta_true = (25, 0.5)\n",
    "xdata = 100 * np.random.random(20)\n",
    "ydata = theta_true[0] + theta_true[1] * xdata\n",
    "\n",
    "# add scatter to points\n",
    "xdata = np.random.normal(xdata, 10)\n",
    "ydata = np.random.normal(ydata, 10)"
   ]
  },
  {
   "cell_type": "markdown",
   "metadata": {},
   "source": [
    "## Plot our data"
   ]
  },
  {
   "cell_type": "code",
   "execution_count": 10,
   "metadata": {
    "collapsed": false
   },
   "outputs": [
    {
     "data": {
      "text/plain": [
       "<matplotlib.text.Text at 0x10c1098d0>"
      ]
     },
     "execution_count": 10,
     "metadata": {},
     "output_type": "execute_result"
    },
    {
     "data": {
      "image/png": "[encoded data removed]",
      "text/plain": [
       "<matplotlib.figure.Figure at 0x10c11e050>"
      ]
     },
     "metadata": {},
     "output_type": "display_data"
    }
   ],
   "source": [
    "plt.plot(xdata, ydata, 'ok')\n",
    "plt.xlabel('x')\n",
    "plt.ylabel('y')"
   ]
  },
  {
   "cell_type": "code",
   "execution_count": 43,
   "metadata": {
    "collapsed": false
   },
   "outputs": [],
   "source": [
    "# Define the variables needed for the routine, with their prior distributions\n",
    "alpha = pymc.Uniform('alpha', -100, 100)\n",
    "\n",
    "@pymc.stochastic(observed=False)\n",
    "def beta(value=0):\n",
    "    return -1.5 * np.log(1 + value ** 2)\n",
    "\n",
    "# Jeffry's prior on scale parameters\n",
    "@pymc.stochastic(observed=False)\n",
    "def sigma(value=1):\n",
    "    if value < 0:\n",
    "        return -np.inf\n",
    "    return -np.log(value)\n",
    "\n",
    "# Define the form of the model and likelihood\n",
    "@pymc.deterministic\n",
    "def y_model(x=xdata, alpha=alpha, beta=beta):\n",
    "    return alpha + beta * x\n",
    "\n",
    "y = pymc.Normal('y', mu=y_model, tau=1. / sigma ** 2, observed=True, value=ydata)\n",
    "\n",
    "# package the full model in a dictionary\n",
    "lin_reg_model = dict(alpha=alpha, beta=beta, sigma=sigma,\n",
    "                     y_model=y_model, y=y)"
   ]
  },
  {
   "cell_type": "code",
   "execution_count": 41,
   "metadata": {
    "collapsed": false,
    "scrolled": true
   },
   "outputs": [
    {
     "name": "stdout",
     "output_type": "stream",
     "text": [
      " [-----------------100%-----------------] 100000 of 100000 complete in 18.1 sec"
     ]
    }
   ],
   "source": [
    "# run the basic MCMC\n",
    "M = pymc.MCMC(lin_reg_model)\n",
    "M.sample(iter=100000, burn=50000)"
   ]
  },
  {
   "cell_type": "markdown",
   "metadata": {},
   "source": [
    "## Display parameter estimates"
   ]
  },
  {
   "cell_type": "code",
   "execution_count": 30,
   "metadata": {
    "collapsed": false
   },
   "outputs": [
    {
     "name": "stdout",
     "output_type": "stream",
     "text": [
      "95% credible interval for alpha: 19.454369 - 35.652780. MAP est: 27.267720\n",
      "95% credible interval for beta: 0.256930 - 0.585687. MAP est: 0.423155\n",
      "95% credible interval for sigma: 7.333712 - 14.405355. MAP est: 10.040143\n"
     ]
    },
    {
     "data": {
      "image/png": "[encoded data removed]",
      "text/plain": [
       "<matplotlib.figure.Figure at 0x1100ad750>"
      ]
     },
     "metadata": {},
     "output_type": "display_data"
    }
   ],
   "source": [
    "plot_lin_reg_results(xdata, ydata, M)"
   ]
  },
  {
   "cell_type": "code",
   "execution_count": 32,
   "metadata": {
    "collapsed": false
   },
   "outputs": [
    {
     "data": {
      "text/plain": [
       "(25, 0.5)"
      ]
     },
     "execution_count": 32,
     "metadata": {},
     "output_type": "execute_result"
    }
   ],
   "source": [
    "# the true values for comparison\n",
    "theta_true"
   ]
  },
  {
   "cell_type": "markdown",
   "metadata": {},
   "source": [
    "## OLS linear regression for comparison"
   ]
  },
  {
   "cell_type": "code",
   "execution_count": 39,
   "metadata": {
    "collapsed": false
   },
   "outputs": [
    {
     "data": {
      "text/plain": [
       "(27.109680578645815, 0.44115599839219188)"
      ]
     },
     "execution_count": 39,
     "metadata": {},
     "output_type": "execute_result"
    }
   ],
   "source": [
    "from sklearn import linear_model\n",
    "ols_model = linear_model.LinearRegression()\n",
    "ols_model.fit(xdata[:, None], ydata)\n",
    "ols_model.intercept_, ols_model.coef_[0]"
   ]
  },
  {
   "cell_type": "markdown",
   "metadata": {},
   "source": [
    "It's odd, OLS & Bayesian regression are close but not identical. Are the priors interfering? Is it just because there are too few samples from the MCMC?"
   ]
  },
  {
   "cell_type": "code",
   "execution_count": null,
   "metadata": {
    "collapsed": true
   },
   "outputs": [],
   "source": []
  }
 ],
 "metadata": {
  "kernelspec": {
   "display_name": "Python 2",
   "language": "python",
   "name": "python2"
  },
  "language_info": {
   "codemirror_mode": {
    "name": "ipython",
    "version": 2
   },
   "file_extension": ".py",
   "mimetype": "text/x-python",
   "name": "python",
   "nbconvert_exporter": "python",
   "pygments_lexer": "ipython2",
   "version": "2.7.10"
  }
 },
 "nbformat": 4,
 "nbformat_minor": 0
}
